{
 "cells": [
  {
   "cell_type": "code",
   "execution_count": 1,
   "id": "6ee453e7",
   "metadata": {},
   "outputs": [],
   "source": [
    "import itertools"
   ]
  },
  {
   "cell_type": "code",
   "execution_count": 2,
   "id": "c761c6eb",
   "metadata": {},
   "outputs": [],
   "source": [
    "first_letter=lambda x:x[0]\n"
   ]
  },
  {
   "cell_type": "code",
   "execution_count": 25,
   "id": "868a910e",
   "metadata": {},
   "outputs": [
    {
     "data": {
      "text/plain": [
       "['alan',\n",
       " 'adam',\n",
       " 'wes',\n",
       " 'will',\n",
       " 'aabb',\n",
       " 'alb',\n",
       " 'aabb',\n",
       " 'xalbe',\n",
       " 'xxa',\n",
       " 'xxc',\n",
       " 'steven']"
      ]
     },
     "execution_count": 25,
     "metadata": {},
     "output_type": "execute_result"
    }
   ],
   "source": [
    "n=['alan','adam','wes','will','aabb','alb','aabb','xalbe','xxa','xxc','steven']\n",
    "n"
   ]
  },
  {
   "cell_type": "code",
   "execution_count": 26,
   "id": "6c694aab",
   "metadata": {},
   "outputs": [
    {
     "name": "stdout",
     "output_type": "stream",
     "text": [
      "a ['alan', 'adam']\n",
      "w ['wes', 'will']\n",
      "a ['aabb', 'alb', 'aabb']\n",
      "x ['xalbe', 'xxa', 'xxc']\n",
      "s ['steven']\n"
     ]
    }
   ],
   "source": [
    "for letter,n in itertools.groupby(n,first_letter):\n",
    "    print(letter,list(n))"
   ]
  },
  {
   "cell_type": "code",
   "execution_count": 24,
   "id": "4c351edf",
   "metadata": {},
   "outputs": [
    {
     "data": {
      "text/plain": [
       "<itertools.groupby at 0x1f6aec871d0>"
      ]
     },
     "execution_count": 24,
     "metadata": {},
     "output_type": "execute_result"
    }
   ],
   "source": [
    "itertools.groupby(n,first_letter)"
   ]
  },
  {
   "cell_type": "code",
   "execution_count": 37,
   "id": "eb4c3b09",
   "metadata": {},
   "outputs": [
    {
     "name": "stdout",
     "output_type": "stream",
     "text": [
      "My fellow Virginians, ladies and gentlemenâ€”good evening.\n",
      "\n",
      "Speaker Cox, Senator Newman, Justices of the Supreme Court, Lieutenant Governor Fairfax, Attorney General Herring, distinguished members of the Virginia General Assemblyâ€”thank you for inviting me to be with you tonight.\n",
      "\n",
      "Please join me in welcoming my wife, Virginiaâ€™s First Lady Pamela Northam. I want to thank Pam for her focus on ensuring that every child in the Commonwealth is able to benefit from access to quality, early childhood education.\n",
      "\n",
      "Before I begin, I want to acknowledge a moment of history we are sharing together. This is the first time in the 400-year history of the Virginia General Assembly that a woman has led a legislative caucus.\n",
      "\n",
      "Please join me in congratulating Leader Eileen Filler-Corn on her historic achievement.\n",
      "\n",
      "And thank you, Delegate Toscano, for your years of service.\n",
      "\n",
      "Finally, I want to recognize my cabinet and the thousands of Virginia state employees they represent for their committed service to our people. Iâ€™m often asked what has most impressed me as governor, and itâ€™s the hard work and talent of our thousands of state workers, from game wardens, to VDOT road crews, to state police.\n",
      "\n",
      "Each of you works diligently to ensure that every corner of this Commonwealth is a place of opportunity for all.\n",
      "\n",
      "It is an honor to serve as the 73rd Governor of this great Commonwealth. Itâ€™s hard to believe that a year has already come and gone since I last addressed the General Assembly.\n",
      "\n",
      "Weâ€™ve had a very successful year together, and Virginians are better for it.\n",
      "\n",
      "In fact, weâ€™ve been so successful together that Iâ€™ve already started thinking about the future, about 2020. And so tonight, I am proud to announce I am going to seriously explore a run for President â€¦Â \n",
      "\n",
      "â€¦ of the Eastern Shore Antique Car Club.\n",
      "\n",
      "In all seriousness, I am grateful for all that we have been able to accomplish, working together.\n",
      "\n",
      "This last year has taught me a great deal, and I know that while it can often be difficult to serve in elected office, the work we do together is as important now as it ever has been.Â  Â Â \n",
      "\n",
      "Weâ€™re a state that supports our veterans, embraces diversity and inclusion, and attracts visitors from around the world. We work every day to make sure that Virginia is a place of opportunity, where everyone can build the life they want to live.\n",
      "\n",
      "With unemployment at the lowest levels in decades, a growing economy, expanding access to health coverage to 400,000 working Virginians, and investing record amounts in public schools and environmental protection, we can say with certainty that the State of our beloved Commonwealth is as strong as ever.\n",
      "\n",
      "I believe Virginians select their leaders for one reason: to make this Commonwealth work better for them and their families, no matter who they are or where they live.\n",
      "\n",
      "Putting politics aside for the good of the people shouldnâ€™t be hard. But as we are seeing up the road in Washington, some politicians have a way of making even the simplest things look difficult.\n",
      "\n",
      "In recent weeks, our federal government has shut down, and thousands of Virginiaâ€™s federal workers, as well as all of those Americans whom they serve, have paid the price.\n",
      "\n",
      "Over the course of this 46-day session, Virginia can offer a different path forward.\n",
      "\n",
      "I believe that most of the time, people find what theyâ€™re looking for. If theyâ€™re looking for division, theyâ€™ll find it.\n",
      "\n",
      "But if theyâ€”if weâ€”look for areas where we can agree, weâ€™ll find them.\n",
      "\n",
      "Throughout our history, Virginia has led the nation by example. The Virginia Way charges us to put people ahead of politics, and to leave this place better than we found it.\n",
      "\n",
      "I am proud to say weâ€™re off to a good start.\n",
      "\n",
      "In our first year working together, we have achieved major accomplishments that fulfilled our mandate to improve Virginiansâ€™ lives.\n",
      "\n",
      "We passed an historic budget that means 400,000 more Virginians will be able to see a doctor when they are sick.\n",
      "\n",
      "We strengthened our Commonwealthâ€™s finances by shoring up our reserves and preserving our valuable Triple-A bond rating.\n",
      "\n",
      "We broke down decades of gridlock on criminal justice reform by finally raising the felony larceny threshold.\n",
      "\n",
      "We led the region in securing a dedicated source of revenue for Metro for the first time in the systemâ€™s history.\n",
      "\n",
      "We agreed to boost pay for our educators and retool our workforce development efforts.\n",
      "\n",
      "We worked together to make government more efficient through regulatory reform, and to be a better steward of taxpayersâ€™ dollars.\n",
      "\n",
      "We created a parental leave plan for state employees, and the House of Delegates and Senate did the same, providing parents an important opportunity to be with their new children.\n",
      "\n",
      "And in the midst of a growing economy, and the lowest unemployment rate in seventeen years, we have built on our momentum and announced many new jobs and investments in every single corner of our Commonwealth.\n",
      "\n",
      "The successes in this past year have come about not because I, or you legislators, did something individuallyâ€”but because we worked together. When we work together and help provide a strong foundation for Virginians, our families and businesses thrive.\n",
      "\n",
      "And while weâ€™ve had a successful year, we canâ€™t rest on that. Every year we must make more progress toward a Commonwealth of opportunity for everyone.\n",
      "\n",
      "When we invest in Virginians and their future in a fiscally responsible way, no one can stop us.Â We can again be the best state in the nation for business.\n",
      "\n",
      "We can make sure the economy works well for everyone not just those at the top.\n",
      "\n",
      "We have always been a national leader. Let us never abandon that mantle.\n",
      "\n",
      "I spent my career as a child neurologist, seeing young patients. Over the span of those years, I saw thousands of children and their parents.\n",
      "\n",
      "And I canâ€™t name a single instance when any of them asked me whether I was a Democrat or a Republicanâ€”nor did I ask them. They just wanted me to help them.\n",
      "\n",
      "And thatâ€™s what the people of Virginia want from us.\n",
      "\n",
      "Last year, I promised that I would govern to get things done. I said that my goal would always be to do what was best for the people of Virginia. I promised Iâ€™d work with anyone to make our Commonwealth work better for all Virginians.\n",
      "\n",
      "I believe there is no better place in this great country of ours to live, work, and raise a family than Virginia.\n",
      "\n",
      "Letâ€™s renew that commitment to working together to build a Commonwealth where every person, particularly every child, has the same shot at a healthy, safe, and successful life.\n",
      "\n",
      "Iâ€™m here tonight to tell you that the state of the Commonwealth is strong, and we are poised to make it even stronger.\n",
      "\n",
      "Since I took office, weâ€™ve announced more than 41,000 new jobs, with more than $8 billion in new capital investment.\n",
      "\n",
      "That means 41,000 more Virginians who can pay rent or mortgages, buy groceries and school supplies, and put paychecks to work in local businesses.\n",
      "\n",
      "These new jobs represent people who can live in their hometowns, instead of leaving for a job somewhere else.\n",
      "\n",
      "Growing up on the Eastern Shore, I know how young people leave our rural areas for jobs and donâ€™t come back.\n",
      "\n",
      "That is why our Administration has made it a priority to ensure that every region of Virginia is part of our economic successâ€”so that people can build their lives in the place of their choosing.\n",
      "\n",
      "We still have work to do, but Iâ€™m pleased by the progress we have made so far.\n",
      "\n",
      "This year, Iâ€™ve made nearly 100 visits to rural parts of Virginia to announce more than $1.25 billion in new capital expenditures.\n",
      "\n",
      "Tonight, Iâ€™m proud to make another one of these announcements.\n",
      "\n",
      "Microsoft will inject significant capital investment to expand its datacenter campus in Mecklenburg County which will create more than 100 new jobs. This will be Microsoftâ€™s sixth expansion at that facility since 2010, which is great news for that area.\n",
      "\n",
      "This is a huge win for rural Virginia and we should all be proud. I want to thank Senator Frank Ruff, Delegate Tommy Wright, and all the members who played a part in this.\n",
      "\n",
      "I also want to welcome Jeremy Satterfield, the Virginia manager of TechSpark atÂ Microsoft, who is in the gallery tonight. Microsoftâ€™s TechSpark program works to create more job opportunities in economically stressed areas, and southern Virginia is one of the regions where theyâ€™re working.\n",
      "\n",
      "With this Microsoft news, Amazonâ€™s decision to select Virginia for a new corporate headquarters, and Micronâ€™s expansion, itâ€™s clear that our efforts to bring new jobs and investments to our Commonwealth are paying off.Â \n",
      "\n",
      "These companies are attracted to Virginia for our exceptional education system, our skilled workforce, and our strong business climate.\n",
      "\n",
      "Virginia was once ranked as the number one state in the country in which to do business.\n",
      "\n",
      "This year, we climbed in the rankings, from fifth to fourth. But we canâ€™t get back to number one if we arenâ€™t supporting our small business owners, the backbone of our economy.\n",
      "\n",
      "As a small business owner myself, Iâ€™ll never lose sight of that.\n",
      "\n",
      "This partial government shutdown illustrates why, with some urgency, we need to continue to diversify our economy. No one region in Virginia should be reliant on one industry.\n",
      "\n",
      "Thatâ€™s why Iâ€™m so encouraged to see the ingenuity of our small business owners as I travel across the state.\n",
      "\n",
      "When businesses large and small want to call Virginia home, thatâ€™s a one-two punch for our economy that canâ€™t be beat.\n",
      "\n",
      "These businesses all need workers, and preparing Virginiaâ€™s workforce for the jobs of the 21st century begins earlier than we think.\n",
      "\n",
      "We cannot afford to wait until students enter kindergarten to begin preparing them for successful futures.\n",
      "\n",
      "I want to thank our First Lady Pam Northam for leading a new version of the Childrenâ€™s Cabinet that is placing an unprecedented focus on early childhood development.\n",
      "\n",
      "Thanks to their work, last week Virginia was awarded a $10 million federal grant to improve our statewide early education system â€“ and thatâ€™s just the beginning.\n",
      "\n",
      "With the help of Virginiaâ€™s first-ever Chief School Readiness Officer, we are working with leaders across the state and with many of the people here tonight, to ensure that every child has access to quality early childhood programs.\n",
      "\n",
      "Just a few short weeks ago, I shared my proposed budget amendments with the Joint Money Committees.\n",
      "\n",
      "These amendments reflect the unique opportunity we have this session: to make forward-looking investments in our success, to further strengthen our reserves, and meet our existing obligations.\n",
      "\n",
      "We have a world-class education systemâ€”but we need to make long-term investments to sustain that quality for our students and to ensure we remain competitive in a 21st century economy.\n",
      "\n",
      "Thatâ€™s why I am eager to work with you to give our teachers the largest single-year pay raise in 15 years.\n",
      "\n",
      "This isnâ€™t just about the educators who deserve to be paid more. Itâ€™s about improving the education we offer our children by ensuring that we can attract and retain the best and brightest educators to classrooms in every corner of our Commonwealth.Â \n",
      "\n",
      "Raising teacher pay is only part of the puzzle when it comes to making sure that every Virginia student is able to reach their full potential. Schools, educational leaders, and parents across the Commonwealth have been clear that students need a variety of services to succeed in the classroom.\n",
      "\n",
      "Thatâ€™s why Iâ€™ve proposed to fund more positions for school counselors statewide, and additional flexible funding so that school divisions can make their own decisions about which services will most benefit their students.Â Â \n",
      "\n",
      "Early childhood and K-12 education are the backbone of our efforts to prepare students for successful lives, bringing skills to jobsâ€”but in a modern economy we canâ€™t stop there.\n",
      "\n",
      "The good jobs of the future will almost always require some form of training after high school. However, at a time when college costs threaten to price many students out of the market, the good news is that some of the many rewarding jobs in the most exciting fields donâ€™t require a four-year degree.\n",
      "\n",
      "If Virginia is going to succeed in the economy of the future, we must expand our advantage in higher education and continue to reform our approach to workforce training.\n",
      "\n",
      "That effort should begin with better aligning our four-year universities, community colleges and skills training programs with the needs of modern day students and the employers who are waiting to hire them.\n",
      "\n",
      "And we need to work even harder to make postsecondary education more affordable and accessible to all students.\n",
      "\n",
      "Weâ€™re working with the Virginia Community College System to reframe their programming, so that students can get the skills they need on the front end for 21st century jobs.\n",
      "\n",
      "Our training certificate programs and our higher education system need to work hand in hand. And they need to be affordable.\n",
      "\n",
      "Expensive tuition and high student debt can close the door to opportunity for too many people.\n",
      "\n",
      "My budget would offer more tuition assistance, and requires our institutions to create tuition predictability plans.\n",
      "\n",
      "It is high time we began regulating the companies that service our student loans. While people may not be able to avoid taking on debt to get an education, they should be able to count on basic consumer protections.\n",
      "\n",
      "Iâ€™m also proposing specific tuition assistance for National Guard members so that the men and women who step forward to keep us safe in times of need can advance in their civilian careers as well.\n",
      "\n",
      "Our National Guard members offer critical help, responding during and after disasters or other missions.\n",
      "\n",
      "As weâ€™ve learned from economic development projects, including the Amazon headquarters, good jobs come to states and communities whose workers are ready for high tech jobs.\n",
      "\n",
      "That is why our administration is proud to partner with legislative leaders of both parties in proposing a Tech Talent Investment Fund, which will offer grants to our higher education institutions to help them provide more computer science degrees. Our goal is to produce up to 17,500 more bachelorâ€™s degrees in computer science over the next 20 years. This is an investment in our people and our future.\n",
      "\n",
      "Tonight, Iâ€™m laying out the roadmap to a competitive, brilliant future for all Virginians.\n",
      "\n",
      "Until we come together to ensure universal broadband access, we are keeping opportunity out of reach for entire communities in Virginia.\n",
      "\n",
      "When a community doesnâ€™t have reliable Internet access, it canâ€™t attract businesses, support its home-grown entrepreneurs, keep its students up to date, or use telehealth to keep people healthy.\n",
      "\n",
      "The ability to get online anywhereâ€”thatâ€™s what makes a Commonwealth of opportunity.\n",
      "\n",
      "Weeks ago, I shared an ambitious budget proposal to speed up our progress and achieve universal broadband access within the next few years.\n",
      "\n",
      "This is probably the number one issue I hear from Virginians as I travel around the state, and the number one issue I hear from legislatorsâ€”both Republicans and Democrats.\n",
      "\n",
      "Virginia can be a national leader in providing access to its residents if we work together and take advantage of this opportunity.\n",
      "\n",
      "Weâ€™ve talked a lot about jobs and economic opportunity. But we know that a strong workforce has to be a healthy workforce.\n",
      "\n",
      "Last year we joined together to expand Medicaid coverage to more working Virginians.\n",
      "\n",
      "We knew people wanted and needed this.\n",
      "\n",
      "One of them was Kara Murdock. When Kara was 23, she had to have her arm amputated below the elbow due to a blood clot. This left her unable to do her work as a dog groomer, or continue her studies to become a paramedic.\n",
      "\n",
      "She has had numerous surgeries and complications, and has been uninsured since she was dropped from her parentsâ€™ insurance when she turned 26.\n",
      "\n",
      "Kara knew what Medicaid expansion could mean for her. So on Halloween night, Kara camped out so that she could be the first in line to apply for health coverage under the new eligibility rules.\n",
      "\n",
      "Kara is here with us tonight. Please give her a warm welcome.\n",
      "\n",
      "Kara, thank you for being here and letting me share your story, so that we can appreciate the impact of our work together on Medicaid expansion last year.\n",
      "\n",
      "Kara wasnâ€™t the only one who knew what this care would mean. On the first day of enrollment, our call center had a flood of 6,000 calls.Â \n",
      "\n"
     ]
    },
    {
     "ename": "UnicodeDecodeError",
     "evalue": "'charmap' codec can't decode byte 0x9d in position 6324: character maps to <undefined>",
     "output_type": "error",
     "traceback": [
      "\u001b[1;31m---------------------------------------------------------------------------\u001b[0m",
      "\u001b[1;31mUnicodeDecodeError\u001b[0m                        Traceback (most recent call last)",
      "Input \u001b[1;32mIn [37]\u001b[0m, in \u001b[0;36m<cell line: 2>\u001b[1;34m()\u001b[0m\n\u001b[0;32m      1\u001b[0m f\u001b[38;5;241m=\u001b[39m\u001b[38;5;28mopen\u001b[39m(\u001b[38;5;124mr\u001b[39m\u001b[38;5;124m'\u001b[39m\u001b[38;5;124mC:\u001b[39m\u001b[38;5;124m\\\u001b[39m\u001b[38;5;124mUsers\u001b[39m\u001b[38;5;124m\\\u001b[39m\u001b[38;5;124mkulpr\u001b[39m\u001b[38;5;124m\\\u001b[39m\u001b[38;5;124mOneDrive\u001b[39m\u001b[38;5;124m\\\u001b[39m\u001b[38;5;124mDokumente\u001b[39m\u001b[38;5;124m\\\u001b[39m\u001b[38;5;124mLearning\u001b[39m\u001b[38;5;124m\\\u001b[39m\u001b[38;5;124mCoursera\u001b[39m\u001b[38;5;124m\\\u001b[39m\u001b[38;5;124mSQL\u001b[39m\u001b[38;5;124m\\\u001b[39m\u001b[38;5;124mmy_pandas\u001b[39m\u001b[38;5;124m\\\u001b[39m\u001b[38;5;124mVirginia_SOTS.txt\u001b[39m\u001b[38;5;124m'\u001b[39m,\u001b[38;5;124m'\u001b[39m\u001b[38;5;124mrt\u001b[39m\u001b[38;5;124m'\u001b[39m)\n\u001b[1;32m----> 2\u001b[0m \u001b[38;5;28;01mfor\u001b[39;00m line \u001b[38;5;129;01min\u001b[39;00m f:\n\u001b[0;32m      3\u001b[0m     \u001b[38;5;28mprint\u001b[39m(line)\n",
      "File \u001b[1;32m~\\AppData\\Local\\Programs\\Python\\Python310\\lib\\encodings\\cp1252.py:23\u001b[0m, in \u001b[0;36mIncrementalDecoder.decode\u001b[1;34m(self, input, final)\u001b[0m\n\u001b[0;32m     22\u001b[0m \u001b[38;5;28;01mdef\u001b[39;00m \u001b[38;5;21mdecode\u001b[39m(\u001b[38;5;28mself\u001b[39m, \u001b[38;5;28minput\u001b[39m, final\u001b[38;5;241m=\u001b[39m\u001b[38;5;28;01mFalse\u001b[39;00m):\n\u001b[1;32m---> 23\u001b[0m     \u001b[38;5;28;01mreturn\u001b[39;00m \u001b[43mcodecs\u001b[49m\u001b[38;5;241;43m.\u001b[39;49m\u001b[43mcharmap_decode\u001b[49m\u001b[43m(\u001b[49m\u001b[38;5;28;43minput\u001b[39;49m\u001b[43m,\u001b[49m\u001b[38;5;28;43mself\u001b[39;49m\u001b[38;5;241;43m.\u001b[39;49m\u001b[43merrors\u001b[49m\u001b[43m,\u001b[49m\u001b[43mdecoding_table\u001b[49m\u001b[43m)\u001b[49m[\u001b[38;5;241m0\u001b[39m]\n",
      "\u001b[1;31mUnicodeDecodeError\u001b[0m: 'charmap' codec can't decode byte 0x9d in position 6324: character maps to <undefined>"
     ]
    }
   ],
   "source": [
    "f=open(r'C:\\Users\\kulpr\\OneDrive\\Dokumente\\Learning\\Coursera\\SQL\\my_pandas\\Virginia_SOTS.txt','rt')\n",
    "for line in f:\n",
    "    print(line)"
   ]
  },
  {
   "cell_type": "code",
   "execution_count": 14,
   "id": "8f2c8d66",
   "metadata": {},
   "outputs": [],
   "source": [
    "lines=[x.rstrip() for x in open(r'C:\\Users\\kulpr\\OneDrive\\Dokumente\\Learning\\Coursera\\SQL\\my_pandas\\Virginia_SOTS.txt',encoding=\"utf8\")]"
   ]
  },
  {
   "cell_type": "code",
   "execution_count": 17,
   "id": "70fa7fa0",
   "metadata": {},
   "outputs": [
    {
     "data": {
      "text/plain": [
       "219"
      ]
     },
     "execution_count": 17,
     "metadata": {},
     "output_type": "execute_result"
    }
   ],
   "source": [
    "len(lines)"
   ]
  },
  {
   "cell_type": "code",
   "execution_count": 22,
   "id": "fdd895bd",
   "metadata": {},
   "outputs": [],
   "source": [
    "s='           banana,,,,,sd'\n",
    "m=s.rstrip(',sd')"
   ]
  },
  {
   "cell_type": "code",
   "execution_count": 23,
   "id": "a21d7812",
   "metadata": {},
   "outputs": [
    {
     "data": {
      "text/plain": [
       "'banana'"
      ]
     },
     "execution_count": 23,
     "metadata": {},
     "output_type": "execute_result"
    }
   ],
   "source": [
    "m.lstrip()"
   ]
  },
  {
   "cell_type": "code",
   "execution_count": 34,
   "id": "236f514d",
   "metadata": {},
   "outputs": [
    {
     "data": {
      "text/plain": [
       "'My fellow '"
      ]
     },
     "execution_count": 34,
     "metadata": {},
     "output_type": "execute_result"
    }
   ],
   "source": [
    "f=open(r'C:\\Users\\kulpr\\OneDrive\\Dokumente\\Learning\\Coursera\\SQL\\my_pandas\\Virginia_SOTS.txt','rt')\n",
    "f.read(10)"
   ]
  },
  {
   "cell_type": "code",
   "execution_count": 35,
   "id": "dd99132b",
   "metadata": {},
   "outputs": [
    {
     "data": {
      "text/plain": [
       "10"
      ]
     },
     "execution_count": 35,
     "metadata": {},
     "output_type": "execute_result"
    }
   ],
   "source": [
    "f.tell()"
   ]
  },
  {
   "cell_type": "code",
   "execution_count": 36,
   "id": "3f59fb3c",
   "metadata": {},
   "outputs": [
    {
     "data": {
      "text/plain": [
       "'utf-8'"
      ]
     },
     "execution_count": 36,
     "metadata": {},
     "output_type": "execute_result"
    }
   ],
   "source": [
    "import sys\n",
    "sys.getdefaultencoding()"
   ]
  },
  {
   "cell_type": "code",
   "execution_count": 41,
   "id": "5a6ba3b0",
   "metadata": {},
   "outputs": [],
   "source": [
    "with open(r'C:\\Users\\kulpr\\OneDrive\\Dokumente\\Learning\\Coursera\\SQL\\my_pandas\\Virginia_SOTS.txt','rb') as f:\n",
    "     data=f.read(20)"
   ]
  },
  {
   "cell_type": "code",
   "execution_count": 42,
   "id": "04a16d27",
   "metadata": {},
   "outputs": [
    {
     "data": {
      "text/plain": [
       "b'My fellow Virginians'"
      ]
     },
     "execution_count": 42,
     "metadata": {},
     "output_type": "execute_result"
    }
   ],
   "source": [
    "data"
   ]
  },
  {
   "cell_type": "code",
   "execution_count": 43,
   "id": "f86f37ce",
   "metadata": {},
   "outputs": [
    {
     "data": {
      "text/plain": [
       "'My fellow Virginians'"
      ]
     },
     "execution_count": 43,
     "metadata": {},
     "output_type": "execute_result"
    }
   ],
   "source": [
    "data.decode('utf8')"
   ]
  },
  {
   "cell_type": "code",
   "execution_count": null,
   "id": "f577f62e",
   "metadata": {},
   "outputs": [],
   "source": []
  }
 ],
 "metadata": {
  "kernelspec": {
   "display_name": "Python 3 (ipykernel)",
   "language": "python",
   "name": "python3"
  },
  "language_info": {
   "codemirror_mode": {
    "name": "ipython",
    "version": 3
   },
   "file_extension": ".py",
   "mimetype": "text/x-python",
   "name": "python",
   "nbconvert_exporter": "python",
   "pygments_lexer": "ipython3",
   "version": "3.9.12"
  }
 },
 "nbformat": 4,
 "nbformat_minor": 5
}
